{
 "cells": [
  {
   "cell_type": "code",
   "execution_count": 3,
   "source": [
    "import requests\n",
    "doc = requests.get('https://dcs.megaphone.fm/NBN1392782783.mp3')\n",
    "with open('podcast.mp3', 'wb') as f:\n",
    "    f.write(doc.content)"
   ],
   "outputs": [],
   "metadata": {}
  },
  {
   "cell_type": "code",
   "execution_count": 5,
   "source": [
    "import requests\n",
    "from bs4 import BeautifulSoup\n",
    "res = requests.get('https://newbooksnetwork.com/north-korea-like-nowhere-else')\n",
    "print(\"The status code is \", res.status_code)\n",
    "print(\"\\n\")\n",
    "soup_data = BeautifulSoup(res.text, 'html.parser')"
   ],
   "outputs": [
    {
     "output_type": "stream",
     "name": "stdout",
     "text": [
      "The status code is  200\n",
      "\n",
      "\n",
      "<title>New Books Network | Lindsey Miller, \"North Korea: Like Nowhere Else\"…</title>\n",
      "\n",
      "\n",
      "[<h4 class=\"font-head text-xl mb-4\">Lindsey Miller</h4>, <h4 class=\"text-xl font-head font-medium mb-4\">Nicholas Gordon</h4>, <h4 class=\"font-head text-gray-500 text-base\">Jagjeet Lally</h4>, <h4 class=\"font-head text-gray-500 text-base\">Jason M. Kelly</h4>, <h4 class=\"font-head text-gray-500 text-base\">Pornsak Pichetshote</h4>, <h4 class=\"font-head text-gray-500 text-base\">Tom Lin</h4>, <h4 class=\"font-head text-gray-500 text-base\">Chris Miller</h4>, <h4 class=\"font-head text-gray-500 text-base\">Tonio Andrade</h4>, <h4 class=\"font-head text-gray-500 text-base\">Suchitra Vijayan</h4>, <h4 class=\"font-head text-gray-500 text-base\">Marie Favereau</h4>, <h4 class=\"font-head text-gray-500 text-base\">Larry Feign</h4>, <h4 class=\"font-head text-gray-500 text-base\">Namit Arora</h4>, <h4 class=\"font-head text-gray-500 text-base\">Vernadette Vicuña Gonzalez</h4>, <h4 class=\"font-head text-gray-500 text-base\">Samira Shackle</h4>]\n"
     ]
    }
   ],
   "metadata": {}
  },
  {
   "cell_type": "code",
   "execution_count": 13,
   "source": [
    "for i in soup_data.find_all(\"iframe\"):\n",
    "    src = i.attrs[\"src\"]\n",
    "    print(src)\n"
   ],
   "outputs": [
    {
     "output_type": "stream",
     "name": "stdout",
     "text": [
      "https://www.googletagmanager.com/ns.html?id=GTM-MLGW33C\n",
      "https://playlist.megaphone.fm?e=NBN1392782783\n"
     ]
    }
   ],
   "metadata": {}
  },
  {
   "cell_type": "code",
   "execution_count": 28,
   "source": [
    "res = requests.get(\"https://playlist.megaphone.fm?e=NBN1392782783\")\n",
    "soup_data = BeautifulSoup(res.text, 'html.parser')\n",
    "# for i in soup_data.find_all(\"a\"):\n",
    "#     print(i)\n",
    "    # href = i.attrs[\"href\"]\n",
    "    # print(href)\n"
   ],
   "outputs": [],
   "metadata": {}
  },
  {
   "cell_type": "code",
   "execution_count": 34,
   "source": [
    "\"mp3\" in res.text"
   ],
   "outputs": [
    {
     "output_type": "execute_result",
     "data": {
      "text/plain": [
       "False"
      ]
     },
     "metadata": {},
     "execution_count": 34
    }
   ],
   "metadata": {}
  },
  {
   "cell_type": "code",
   "execution_count": null,
   "source": [],
   "outputs": [],
   "metadata": {}
  }
 ],
 "metadata": {
  "orig_nbformat": 4,
  "language_info": {
   "name": "python",
   "version": "3.9.6",
   "mimetype": "text/x-python",
   "codemirror_mode": {
    "name": "ipython",
    "version": 3
   },
   "pygments_lexer": "ipython3",
   "nbconvert_exporter": "python",
   "file_extension": ".py"
  },
  "kernelspec": {
   "name": "python3",
   "display_name": "Python 3.9.6 64-bit"
  },
  "interpreter": {
   "hash": "b0fa6594d8f4cbf19f97940f81e996739fb7646882a419484c72d19e05852a7e"
  }
 },
 "nbformat": 4,
 "nbformat_minor": 2
}