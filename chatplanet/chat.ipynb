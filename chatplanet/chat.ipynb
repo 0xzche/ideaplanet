{
 "cells": [
  {
   "cell_type": "code",
   "execution_count": 1,
   "source": [
    "\n",
    "import socket\n",
    "from threading import Thread\n",
    "\n",
    "# server's IP address\n",
    "SERVER_HOST = \"0.0.0.0\"\n",
    "SERVER_PORT = 5002 # port we want to use\n",
    "separator_token = \"<SEP>\" # we will use this to separate the client name & message\n",
    "\n",
    "# initialize list/set of all connected client's sockets\n",
    "client_sockets = set()\n",
    "# create a TCP socket\n",
    "s = socket.socket()\n",
    "# make the port as reusable port\n",
    "s.setsockopt(socket.SOL_SOCKET, socket.SO_REUSEADDR, 1)\n",
    "# bind the socket to the address we specified\n",
    "s.bind((SERVER_HOST, SERVER_PORT))\n",
    "# listen for upcoming connections\n",
    "s.listen(5)\n",
    "print(f\"[*] Listening as {SERVER_HOST}:{SERVER_PORT}\")"
   ],
   "outputs": [
    {
     "output_type": "stream",
     "name": "stdout",
     "text": [
      "[*] Listening as 0.0.0.0:5002\n"
     ]
    }
   ],
   "metadata": {}
  },
  {
   "cell_type": "code",
   "execution_count": null,
   "source": [],
   "outputs": [],
   "metadata": {}
  }
 ],
 "metadata": {
  "orig_nbformat": 4,
  "language_info": {
   "name": "python",
   "version": "3.7.3",
   "mimetype": "text/x-python",
   "codemirror_mode": {
    "name": "ipython",
    "version": 3
   },
   "pygments_lexer": "ipython3",
   "nbconvert_exporter": "python",
   "file_extension": ".py"
  },
  "kernelspec": {
   "name": "python3",
   "display_name": "Python 3.7.3 64-bit ('base': conda)"
  },
  "interpreter": {
   "hash": "3fda7653594d1eb02978d8a70597c2feac4fcd71e7728e3e1153ff41063dcc73"
  }
 },
 "nbformat": 4,
 "nbformat_minor": 2
}